{
 "cells": [
  {
   "cell_type": "markdown",
   "id": "79efc203-167c-4322-be10-37967d2b7c0a",
   "metadata": {},
   "source": [
    "# Introduction"
   ]
  },
  {
   "cell_type": "markdown",
   "id": "033dc475-696a-475b-8938-13cb384dad25",
   "metadata": {},
   "source": [
    "### Problem Statement\n",
    "\n",
    "When I was young I was a fan of the show Pokemon. Pokemon cards cards are fun to collect and can even be a good investment as some rare cards sell for thousands of dollars. I'm want to find the best way for someone to upload their pokemon card collection online. This could be a fast way to  record someone's collection, or even be made compatible with a Pokemon computer game. The goal of my project is to find a way for card collectors to link their collection with their online accounts or just to store their cards electronically. Typing in Pokemonnames on a phone or table can be cumbersome and the ability to scan an image of a card to find out how much it is worth would be very useful to players and collectors. This is also a good opportunity to learn how Nueral Networks best learn patterns to classify images."
   ]
  },
  {
   "cell_type": "markdown",
   "id": "f0bdbfa6-8406-4d1f-adb9-9898daa69812",
   "metadata": {
    "tags": []
   },
   "source": [
    "### Imports"
   ]
  },
  {
   "cell_type": "code",
   "execution_count": 2,
   "id": "1e75a5f0-e699-44b7-a117-be3d82c029b0",
   "metadata": {},
   "outputs": [],
   "source": [
    "# These modules are necesssary\n",
    "#%pip install simple_image_download\n",
    "#%pip install pokemontcgsdk\n",
    "#%pip install opencv-python"
   ]
  },
  {
   "cell_type": "code",
   "execution_count": 3,
   "id": "71352b73-76e4-4dad-a1cf-fd791ae033b7",
   "metadata": {},
   "outputs": [],
   "source": [
    "from pokemontcgsdk import Card\n",
    "from simple_image_download import simple_image_download as simp\n",
    "from PIL import Image\n",
    "import requests\n",
    "from io import BytesIO\n",
    "import matplotlib.pyplot as plt\n",
    "import numpy as np\n",
    "import seaborn as sns\n",
    "import pandas as pd\n",
    "import os\n",
    "import shutil \n",
    "import random\n",
    "import tensorflow as tf\n",
    "import cv2\n",
    "from sklearn.metrics import confusion_matrix\n",
    "from sklearn.metrics import classification_report\n",
    "import urllib.request\n",
    "from keras.preprocessing.image import ImageDataGenerator\n",
    "from tensorflow.keras.layers import Dense, Flatten\n",
    "from tensorflow.keras.models import Sequential, load_model\n",
    "from tensorflow.keras.utils import to_categorical\n",
    "from tensorflow.keras.layers import Flatten, Dense, Conv2D, MaxPool2D, Dropout, BatchNormalization\n",
    "from tensorflow.keras.applications import MobileNetV2, VGG16, InceptionV3, Xception\n",
    "from tensorflow.keras.callbacks import EarlyStopping"
   ]
  },
  {
   "cell_type": "markdown",
   "id": "8dc44c15-b91b-4660-ba98-f1fbf5e6cab7",
   "metadata": {},
   "source": [
    "# Data Source\n",
    "\n",
    "The input Data for this project will be general pictures of Pokemon and pictures of Pokemon Trading Cards. Images of the trading cards can\n",
    "be downloaded using the Pokemon tcg API from https://pokemontcg.io/   <br>\n",
    "\n",
    "The general pictures of Pokemon are used from this PokemonClassifier Dataset with 7,000 Labeled Pokemon https://www.kaggle.com/lantian773030/pokemonclassification/activity <br>\n",
    "\n",
    "\n",
    "Additional general Pokemon images are downloading using the simple_image_download module to pull images from google search results. <br>\n",
    "\n",
    "I also used a Pokemon information dataframe to to create a dictionary useful for fetching and labeling images. I obtained a Pokemon excel file with names, types and pokedex numbers from https://www.reddit.com/r/pokemon/comments/1qrnw8/i_made_a_few_plain_text_printer_friendly_pokemon/  "
   ]
  },
  {
   "cell_type": "markdown",
   "id": "684c4a10-e891-4bf0-a667-0dd70e88762d",
   "metadata": {},
   "source": [
    "# Setup\n",
    "\n",
    "In this project I will use three image classification models. The first model will will be trained on general pokemon images to classify Pokemon as a test. Next I will experiment with to find the best ways to classify Pokemon trading cards. The second model will be trained on general images to classify Pokemon trading cards, and the third will be trained on cropped out images of Pokemon trading cards to classify Pokemon trading cards. Data from kaggle is put in Poke_train folder while tcg images are placed in tcg folders. This project will be limited to generation 1 Pokemon meaning it will classify 151 types of Pokemon. For this reason 'Alohan Sandslash' is not used in the original Kaggle dataset."
   ]
  },
  {
   "cell_type": "markdown",
   "id": "c5c68392-fc40-480d-8aee-4dcc7e289810",
   "metadata": {},
   "source": [
    "After removing Alohan Sandlash folder, I download 90 pictuers of Nidoran male and Nidoran Female. I use simple_image_downloader for this."
   ]
  },
  {
   "cell_type": "code",
   "execution_count": 35,
   "id": "837b1df5-2e49-452b-ada7-68b520cd04ec",
   "metadata": {},
   "outputs": [],
   "source": [
    "#Instantiate simple_image_download \n",
    "# response = simp.simple_image_download "
   ]
  },
  {
   "cell_type": "code",
   "execution_count": null,
   "id": "04be17e0-65df-4b19-bb13-ebe4f5ac604b",
   "metadata": {},
   "outputs": [],
   "source": [
    "# Creates folder with google image search pictures of the Popkemon Nidoran male and female\n",
    "# response.download(response(), keywords='Nidoran', limit=90)"
   ]
  },
  {
   "cell_type": "markdown",
   "id": "6d9a6ceb-7fc2-435e-957b-b2ec3f411878",
   "metadata": {},
   "source": [
    "images are manually sorted and moved to the training folder as the picturs are a mix of Nidoran male and Nidoran female and they need to be put in the correct folder.\n",
    "The simple images folder is then deleted."
   ]
  },
  {
   "cell_type": "code",
   "execution_count": 38,
   "id": "2a41f61d-8240-4d27-a9fb-6f6e1780b89e",
   "metadata": {},
   "outputs": [
    {
     "data": {
      "text/plain": [
       "36"
      ]
     },
     "execution_count": 38,
     "metadata": {},
     "output_type": "execute_result"
    }
   ],
   "source": [
    "len(os.listdir(f\"{path}/Nidoran♀\"))"
   ]
  },
  {
   "cell_type": "code",
   "execution_count": 39,
   "id": "89b41b8a-8f1d-4c74-b6ce-c3a4e97f02ff",
   "metadata": {},
   "outputs": [
    {
     "data": {
      "text/plain": [
       "36"
      ]
     },
     "execution_count": 39,
     "metadata": {},
     "output_type": "execute_result"
    }
   ],
   "source": [
    "len(os.listdir(f\"{path}/Nidoran♂\"))"
   ]
  },
  {
   "cell_type": "markdown",
   "id": "3ee14ff3-c1b8-45c9-818e-2e849d1c29ea",
   "metadata": {},
   "source": [
    "I found 36 good images for both Nidoran classes. This is close to the average number of images per class from the Kaggle dataset (around 45)"
   ]
  },
  {
   "cell_type": "code",
   "execution_count": 8,
   "id": "31fdec76-dcac-4f3c-9fe5-6208f6ee9685",
   "metadata": {},
   "outputs": [],
   "source": [
    "# Set Path variable to use in os code\n",
    "path = \"../Data/PokemonData/Poke_train\""
   ]
  },
  {
   "cell_type": "code",
   "execution_count": 9,
   "id": "eaf83ecf-0b4b-4ab8-b2f7-3f630ad96397",
   "metadata": {},
   "outputs": [
    {
     "data": {
      "text/plain": [
       "151"
      ]
     },
     "execution_count": 9,
     "metadata": {},
     "output_type": "execute_result"
    }
   ],
   "source": [
    "len(os.listdir(path))"
   ]
  },
  {
   "cell_type": "code",
   "execution_count": 42,
   "id": "cf3e1c50-c425-4278-91c5-4c3c14ac1cbb",
   "metadata": {},
   "outputs": [],
   "source": [
    "#Create Folders for poke_tcg_train"
   ]
  },
  {
   "cell_type": "code",
   "execution_count": 43,
   "id": "77c20612-c8af-4f56-80bc-5f18eba54d88",
   "metadata": {},
   "outputs": [],
   "source": [
    "# Code to Download download tcg images to the appropriate folder\n",
    "def tcg_data(pkmn_list):\n",
    "    for pkmn in pkmn_list:\n",
    "        counter = 1\n",
    "        for card in Card.where(q='name:' + pkmn.lower()):\n",
    "            r = requests.get(card.images.small).content\n",
    "            with open(f\"Data/PokemonData/Poke_train_tcg/{pkmn}-pic-{counter}.png\", \"wb+\") as f:\n",
    "                f.write(r)\n",
    "                f.close()\n",
    "            counter += 1"
   ]
  },
  {
   "cell_type": "markdown",
   "id": "59b79e97-a8aa-432e-b0d4-cd6cb45aaf6c",
   "metadata": {},
   "source": [
    "There are 151 Classes as expected."
   ]
  },
  {
   "cell_type": "markdown",
   "id": "a135edf2-cd09-4ad5-9d0b-f82af2125d20",
   "metadata": {},
   "source": [
    "# Exploratory Data Analysis"
   ]
  },
  {
   "cell_type": "markdown",
   "id": "4c91faa4-fbbc-42d9-80bd-bd0f25eef33a",
   "metadata": {},
   "source": [
    "Count number of image samples for each class. (Current directory for written code is the capstone-project_master folder)"
   ]
  },
  {
   "cell_type": "code",
   "execution_count": 12,
   "id": "893fe7cd-24f1-46d4-b94b-c64c3f2c884b",
   "metadata": {},
   "outputs": [
    {
     "data": {
      "text/plain": [
       "['Abra', 'Aerodactyl', 'Alakazam', 'Arbok', 'Arcanine']"
      ]
     },
     "execution_count": 12,
     "metadata": {},
     "output_type": "execute_result"
    }
   ],
   "source": [
    "# create list of all classes\n",
    "classes = os.listdir(path)\n",
    "classes[:5] # list first five classes"
   ]
  },
  {
   "cell_type": "code",
   "execution_count": 13,
   "id": "57499aa9-ee7a-48b2-b8ee-800e1ffd9cc2",
   "metadata": {},
   "outputs": [],
   "source": [
    "# Create a dictionary where the key is the Pokemon name, and the value is the number of images of that Pokemon\n",
    "sample_list_1 = []\n",
    "sample_list_2 = []\n",
    "for i in range(len(os.listdir(f\"{path}\"))):\n",
    "    sample_list_1.append(classes[i])\n",
    "    sample_list_2.append(len(os.listdir(f\"{path}/{classes[i]}\")))\n",
    "\n",
    "sample_dict = dict(zip(sample_list_1, sample_list_2))"
   ]
  },
  {
   "cell_type": "code",
   "execution_count": 17,
   "id": "5fc463f4-5940-46d5-8a10-532abdaf34ca",
   "metadata": {},
   "outputs": [
    {
     "data": {
      "text/plain": [
       "35"
      ]
     },
     "execution_count": 17,
     "metadata": {},
     "output_type": "execute_result"
    }
   ],
   "source": [
    "# I have 35 sample images of Abra\n",
    "sample_dict['Abra']"
   ]
  },
  {
   "cell_type": "code",
   "execution_count": 24,
   "id": "cee1c2e3-128d-49e6-b062-a7335a7ac82f",
   "metadata": {},
   "outputs": [
    {
     "data": {
      "image/png": "[encoded data removed]",
      "text/plain": [
       "<Figure size 600x500 with 1 Axes>"
      ]
     },
     "metadata": {},
     "output_type": "display_data"
    }
   ],
   "source": [
    "#Create plot of classes vs number of samles per class\n",
    "x = list(sample_dict.keys())\n",
    "y = list(sample_dict.values())\n",
    "plt.figure(figsize=(6,5))\n",
    "plot = plt.plot(x, y)\n",
    "plt.xticks(x[0::10], rotation=45) #show only every 10th value on X axis for readability\n",
    "plt.grid()\n",
    "plt.title(\"Number of Sample images\")\n",
    "plt.show()"
   ]
  },
  {
   "cell_type": "markdown",
   "id": "23fa07b3-a383-447c-b455-002c54feb287",
   "metadata": {},
   "source": [
    "There is a good deal of variance in number of sample images"
   ]
  },
  {
   "cell_type": "code",
   "execution_count": 25,
   "id": "16d7cc99-34de-4e9a-89bc-619b6ea8bb7e",
   "metadata": {},
   "outputs": [
    {
     "data": {
      "text/plain": [
       "[66, 62, 59, 59, 58]"
      ]
     },
     "execution_count": 25,
     "metadata": {},
     "output_type": "execute_result"
    }
   ],
   "source": [
    "top_5 = list(sample_dict.values())\n",
    "top_5.sort(reverse=True)\n",
    "top_5[:5]"
   ]
  },
  {
   "cell_type": "code",
   "execution_count": 26,
   "id": "f64bcf2c-3b54-40ad-a8b6-487a677a44d2",
   "metadata": {},
   "outputs": [
    {
     "data": {
      "text/plain": [
       "['Venusaur', 'Pikachu', 'Snorlax', 'Snorlax', 'Scyther']"
      ]
     },
     "execution_count": 26,
     "metadata": {},
     "output_type": "execute_result"
    }
   ],
   "source": [
    "[list(sample_dict.keys())[list(sample_dict.values()).index(i)] for i in top_5[:5]]"
   ]
  },
  {
   "cell_type": "markdown",
   "id": "af4bd88e-5e6b-498b-ab79-c4188f1e0027",
   "metadata": {},
   "source": [
    "Venusaur, Pikachu, Snorlax, and Scyther have the most sample images at 66, 62, 59, 59, and 58 respectively"
   ]
  },
  {
   "cell_type": "code",
   "execution_count": 30,
   "id": "4c85464d-927d-43c3-80e3-a5312958d172",
   "metadata": {},
   "outputs": [
    {
     "data": {
      "text/plain": [
       "'The average image sample amount is 45.48 images.'"
      ]
     },
     "execution_count": 30,
     "metadata": {},
     "output_type": "execute_result"
    }
   ],
   "source": [
    "# find average sample size using values in poke_dict\n",
    "res = 0\n",
    "for val in sample_dict.values():\n",
    "    res += val\n",
    "  \n",
    "# using len() to get total keys for mean computation\n",
    "res = res / len(sample_dict)\n",
    "f\"The average image sample amount is {round(res, 2)} images.\""
   ]
  },
  {
   "cell_type": "markdown",
   "id": "100e19a1-0283-48a6-9653-5aecf7bc164d",
   "metadata": {},
   "source": [
    "### Null Model"
   ]
  },
  {
   "cell_type": "code",
   "execution_count": 31,
   "id": "6054611a-34fe-4437-bb03-eb7a19da63d4",
   "metadata": {},
   "outputs": [
    {
     "data": {
      "text/plain": [
       "0.960978450786255"
      ]
     },
     "execution_count": 31,
     "metadata": {},
     "output_type": "execute_result"
    }
   ],
   "source": [
    "# Null model always predicts Venasaur\n",
    "66/sum(list(sample_dict.values()))*100"
   ]
  },
  {
   "cell_type": "markdown",
   "id": "12789441-f2d5-45f7-9d5a-370e526fafef",
   "metadata": {},
   "source": [
    "The Null model with this dataset would always predict Venasaur (the class with the most images) and would have an accruacy of about 1%"
   ]
  },
  {
   "cell_type": "markdown",
   "id": "0f1adeb2-5a5f-4605-a08e-4f6999840a5f",
   "metadata": {},
   "source": [
    "# Data Preprocessing"
   ]
  },
  {
   "cell_type": "code",
   "execution_count": 44,
   "id": "abae5988-62d7-4eae-a9d8-ccd857ee1a67",
   "metadata": {},
   "outputs": [],
   "source": [
    "train_path = 'Data\\PokemonData\\Poke_train'\n",
    "test_path = 'Data\\PokemonData\\Poke_test'"
   ]
  },
  {
   "cell_type": "code",
   "execution_count": null,
   "id": "a0ca0100-dc04-4765-a2a6-1076e20b39b4",
   "metadata": {},
   "outputs": [],
   "source": [
    "# Copying 15 random images from train folders to test folders\n",
    "def prep_test_data(pokemon,train_path,test_path):\n",
    "    pop = os.listdir(train_path+'/'+pokemon)\n",
    "    test_data = random.sample(pop,15)\n",
    "    #print(test_data)\n",
    "    \n",
    "    for f in test_data:\n",
    "        shutil.copy(train_path+'/'+pokemon+'/'+f,test_path+'/'+pokemon+'/')"
   ]
  },
  {
   "cell_type": "markdown",
   "id": "0fe404b3-f856-40ab-817e-4b9c60185a29",
   "metadata": {},
   "source": [
    "# Training the Model"
   ]
  },
  {
   "cell_type": "markdown",
   "id": "4e7638a1-37bf-4ced-9fc6-e8895e0c0a5a",
   "metadata": {},
   "source": [
    "# Results"
   ]
  },
  {
   "cell_type": "markdown",
   "id": "65fdebf3-6b31-4824-8ea7-fef8fff843b2",
   "metadata": {},
   "source": [
    "# Conclusion"
   ]
  },
  {
   "cell_type": "markdown",
   "id": "6bfe82a6-435c-4c62-b116-be8cd1b58207",
   "metadata": {},
   "source": [
    "# References"
   ]
  }
 ],
 "metadata": {
  "kernelspec": {
   "display_name": "Python 3 (ipykernel)",
   "language": "python",
   "name": "python3"
  },
  "language_info": {
   "codemirror_mode": {
    "name": "ipython",
    "version": 3
   },
   "file_extension": ".py",
   "mimetype": "text/x-python",
   "name": "python",
   "nbconvert_exporter": "python",
   "pygments_lexer": "ipython3",
   "version": "3.8.8"
  }
 },
 "nbformat": 4,
 "nbformat_minor": 5
}
