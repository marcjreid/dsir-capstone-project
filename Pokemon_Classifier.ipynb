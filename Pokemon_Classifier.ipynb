{
 "cells": [
  {
   "cell_type": "markdown",
   "id": "c0f0b59d-a922-4abb-9bd3-325b1f4c0a47",
   "metadata": {},
   "source": [
    "- Introduction\n",
    "- Data Source\n",
    "- Setup\n",
    "- Exploratory Data Analysis\n",
    "- Data Preprocessing\n",
    "- Training the Model\n",
    "- Results\n",
    "- Conclusion\n",
    "- References"
   ]
  },
  {
   "cell_type": "code",
   "execution_count": null,
   "id": "d140381c-ffff-4f98-98e2-d03baead44e2",
   "metadata": {},
   "outputs": [],
   "source": []
  }
 ],
 "metadata": {
  "kernelspec": {
   "display_name": "Python 3",
   "language": "python",
   "name": "python3"
  },
  "language_info": {
   "codemirror_mode": {
    "name": "ipython",
    "version": 3
   },
   "file_extension": ".py",
   "mimetype": "text/x-python",
   "name": "python",
   "nbconvert_exporter": "python",
   "pygments_lexer": "ipython3",
   "version": "3.8.8"
  }
 },
 "nbformat": 4,
 "nbformat_minor": 5
}
